{
 "cells": [
  {
   "cell_type": "markdown",
   "metadata": {},
   "source": [
    " #TOPIC : PYTHON BASIC VARIABLE"
   ]
  },
  {
   "cell_type": "code",
   "execution_count": 2,
   "metadata": {},
   "outputs": [
    {
     "name": "stdout",
     "output_type": "stream",
     "text": [
      "new value of x is 20 and of y is 10\n"
     ]
    }
   ],
   "source": [
    "#1.this program changes the value of two variables\n",
    "x=10 #org x\n",
    "y=20 #org y\n",
    "x=x+y\n",
    "y=x-y #y=orgx\n",
    "x=x-y #x=orgy\n",
    "print(f\"new value of x is {x} and of y is {y}\")"
   ]
  },
  {
   "cell_type": "code",
   "execution_count": null,
   "metadata": {},
   "outputs": [
    {
     "name": "stdout",
     "output_type": "stream",
     "text": [
      "length is : 10\n",
      "width is : 5\n",
      "area of rectangle is  50\n"
     ]
    }
   ],
   "source": [
    "#2.this program calculates the area of the rectangle\n",
    "try:\n",
    "\tlength=int(input(\"please enter a length of the rectangle\"))\n",
    "\tprint(\"length is :\",length)\n",
    "\twidth=int(input(\"please enter a width of the rectangle\"))\n",
    "\tprint(\"width is :\",width)\n",
    "\tif length<0 or width<0:\n",
    "\t\traise ValueError(\"length and width can not be negative \")\n",
    "except ValueError as e:\n",
    "\tprint(e)\n",
    "else:\n",
    "\tarea_of_rectangle=length*width\n",
    "\tprint(\"area of rectangle is \",area_of_rectangle)"
   ]
  },
  {
   "cell_type": "code",
   "execution_count": 16,
   "metadata": {},
   "outputs": [
    {
     "name": "stdout",
     "output_type": "stream",
     "text": [
      "temperature from 30.0 celsius is 86.0 fahrenheit\n"
     ]
    }
   ],
   "source": [
    "#3.This program converts temperature from Celsius to Fahrenheit\n",
    "try:\n",
    "\tT=float(input(\"please enter temperature in celsius unit that to be converted in to fahrenheit\"))\n",
    "\tif T<(-273.15):\n",
    "\t\traise ValueError(\"Temperature below (-273.15) is not possible in celsius unit\")\n",
    "except ValueError as e:\n",
    "\tprint(e)\n",
    "else:\n",
    "\tTf=(9*T/5)+32\n",
    "\tprint(f\"temperature from {T} celsius is {Tf} fahrenheit\")"
   ]
  },
  {
   "cell_type": "markdown",
   "metadata": {},
   "source": [
    "#TOPIC: STRING BASED QUESTIONS"
   ]
  },
  {
   "cell_type": "code",
   "execution_count": 21,
   "metadata": {},
   "outputs": [
    {
     "name": "stdout",
     "output_type": "stream",
     "text": [
      "find the length of this string\n",
      "length of the string is 30\n"
     ]
    }
   ],
   "source": [
    "#1.this program finds the length of the string\n",
    "user_string1=input(\"please enter a string of which you want to find the length\")\n",
    "print(user_string1)\n",
    "print(\"length of the string is\",len(user_string1))"
   ]
  },
  {
   "cell_type": "code",
   "execution_count": 20,
   "metadata": {},
   "outputs": [
    {
     "name": "stdout",
     "output_type": "stream",
     "text": [
      "['c', 'o', 'u', 'n', 't', ' ', 'v', 'o', 'w', 'e', 'l', 's', ' ', 'n', 'o', 'w', ' ', 'i', 'n', ' ', 't', 'h', 'i', 's', ' ', 's', 't', 'r', 'i', 'n', 'g']\n"
     ]
    },
    {
     "data": {
      "text/plain": [
       "8"
      ]
     },
     "execution_count": 20,
     "metadata": {},
     "output_type": "execute_result"
    }
   ],
   "source": [
    "#2.this program counts the vowels inside the string\n",
    "user_input2=list(input(\"please enter a string in which you would like to count vowels\"))\n",
    "print(user_input2)\n",
    "def count_vowels(usesr_input):\n",
    "\tcount=0\n",
    "\tfor i in user_input2:\n",
    "\t\tif i in ['a','e','i','o','u']:\n",
    "\t\t\tcount+=1\n",
    "\t\telse:\n",
    "\t\t\tpass\n",
    "\treturn count\n",
    "count_vowels(user_input2)"
   ]
  },
  {
   "cell_type": "code",
   "execution_count": 19,
   "metadata": {},
   "outputs": [
    {
     "name": "stdout",
     "output_type": "stream",
     "text": [
      "this is the string\n",
      "gnirts eht si siht\n"
     ]
    }
   ],
   "source": [
    "#3.this program reverses the string\n",
    "user_input3=input(\"please enter a string which you would like to reverse\")\n",
    "print(user_input3)\n",
    "length3=len(list(user_input3))\n",
    "reversed=user_input3[length3::-1]\n",
    "print(reversed)"
   ]
  },
  {
   "cell_type": "code",
   "execution_count": 18,
   "metadata": {},
   "outputs": [
    {
     "name": "stdout",
     "output_type": "stream",
     "text": [
      "malayalam\n",
      "True\n"
     ]
    }
   ],
   "source": [
    "#4.this program checks if the string is palindrome or not\n",
    "user_input4=input(\"please enter a string you want to check for palindrome property\")\n",
    "print(user_input4)\n",
    "list4=list(user_input4)\n",
    "length4=len(list4)\n",
    "ispalindrome=True\n",
    "for i in range (0,length4//2):\n",
    "\tif list4[i]==list4[length4-1-i]:\n",
    "\t\tpass\n",
    "\telse:\n",
    "\t\tispalindrome=False\n",
    "\t\tbreak\n",
    "print(ispalindrome)\n"
   ]
  },
  {
   "cell_type": "code",
   "execution_count": null,
   "metadata": {},
   "outputs": [],
   "source": []
  },
  {
   "cell_type": "code",
   "execution_count": null,
   "metadata": {},
   "outputs": [],
   "source": []
  },
  {
   "cell_type": "code",
   "execution_count": null,
   "metadata": {},
   "outputs": [],
   "source": []
  }
 ],
 "metadata": {
  "kernelspec": {
   "display_name": "Python 3",
   "language": "python",
   "name": "python3"
  },
  "language_info": {
   "codemirror_mode": {
    "name": "ipython",
    "version": 3
   },
   "file_extension": ".py",
   "mimetype": "text/x-python",
   "name": "python",
   "nbconvert_exporter": "python",
   "pygments_lexer": "ipython3",
   "version": "3.13.1"
  }
 },
 "nbformat": 4,
 "nbformat_minor": 2
}
